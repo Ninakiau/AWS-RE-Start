{
 "cells": [
  {
   "cell_type": "markdown",
   "metadata": {
    "id": "g6vh2wx8Z6wx"
   },
   "source": [
    "<img src=\"https://bootcamp-institute.com/cdn/shop/files/Bootcamp-Institute_Aprende-Cloud-computing-con-los-expertos.jpg?v=1650398319\" width=\"350\" height=\"170\">\n",
    "\n",
    "# 🛡️ **AWS re/Start**\n",
    "\n",
    "### 📅 Fecha: 25 de noviembre de 2024\n",
    "\n",
    "### 📕 Tema: Creación de un programa Hello World\n",
    "\n",
    "### 💻 Estudiante: **[Tu Nombre]**\n",
    "\n",
    "### 🎯Información general sobre el laboratorio\n",
    "Bienvenido a la introducción a la programación. Para los laboratorios, utilizará el lenguaje de programación Python.\n",
    "\n",
    "En este laboratorio, escribirá su primer programa en Python."
   ]
  },
  {
   "cell_type": "markdown",
   "metadata": {
    "id": "mDhpqkNIaxuQ"
   },
   "source": [
    "# Ejecutar Comandos de Sistema en Jupyter Notebook\n",
    "\n",
    "En Jupyter Notebook, puedes ejecutar comandos del sistema operativo directamente desde una celda de código utilizando el signo de exclamación (`!`). Esto es especialmente útil para tareas de administración del sistema, instalación de paquetes, manejo de archivos y muchas otras operaciones que normalmente realizarías en la terminal.\n",
    "\n",
    "## Ejemplos de Uso\n",
    "\n",
    "### 1. Ver el directorio actual\n",
    "Para ver en qué directorio estás trabajando actualmente, puedes usar el comando `pwd` que significa \"print working directory\".\n",
    "\n",
    "```python\n",
    "!pwd\n"
   ]
  },
  {
   "cell_type": "code",
   "execution_count": 1,
   "metadata": {
    "colab": {
     "base_uri": "https://localhost:8080/"
    },
    "id": "8t29oc8OZu7q",
    "outputId": "8f87f334-0090-48e6-c9f8-538b2f0d295a"
   },
   "outputs": [
    {
     "name": "stdout",
     "output_type": "stream",
     "text": [
      "/content\n"
     ]
    }
   ],
   "source": [
    "!pwd"
   ]
  },
  {
   "cell_type": "markdown",
   "metadata": {
    "id": "VuYUYUvIa8Ti"
   },
   "source": [
    "#Ejercicio 1: Presentar Python\n",
    "\n",
    "Python es un lenguaje de programación de uso general y alto nivel. Los lenguajes de programación se utilizan con el objetivo de escribir instrucciones para las computadoras. Alto nivel significa que los comandos de Python se escriben como una combinación de palabras en inglés y símbolos especiales. De uso general significa que muchas personas utilizan Python para diferentes tipos de aplicaciones, como aplicaciones de escritorio y sitios web.\n",
    "\n",
    "Python tiene dos versiones principales en uso hoy en día. Estas versiones se conocen como Python versión 2.x y Python versión 3.x. Para la Introducción a la programación, utilizará Python versión 3.6.x. La compatibilidad con versiones anteriores significa que el código heredado seguirá funcionando en nuevas versiones del lenguaje. En general, Python sigue siendo compatible con versiones secundarias. Sin embargo, las versiones principales presentan incompatibilidades de sintaxis entre ellas, como entre Python versión 2.x y Python versión 3.x."
   ]
  },
  {
   "cell_type": "markdown",
   "metadata": {
    "id": "CGZqKIRnbEJb"
   },
   "source": [
    "El sitio web [python.org](https://python.org) contiene los instaladores y la documentación general sobre Python."
   ]
  },
  {
   "cell_type": "markdown",
   "metadata": {
    "id": "Q9XstoWfbLBn"
   },
   "source": [
    "### Para confirmar la versión predeterminada de Python que está instalada en su laboratorio, en la pestaña del terminal abierta, escriba lo siguiente:"
   ]
  },
  {
   "cell_type": "code",
   "execution_count": 2,
   "metadata": {
    "colab": {
     "base_uri": "https://localhost:8080/"
    },
    "id": "srxWOZf4a1HV",
    "outputId": "99d6a686-a0f3-428b-bda1-36fe1d2c3105"
   },
   "outputs": [
    {
     "name": "stdout",
     "output_type": "stream",
     "text": [
      "Python 3.10.12\n"
     ]
    }
   ],
   "source": [
    "!python --version"
   ]
  },
  {
   "cell_type": "markdown",
   "metadata": {
    "id": "YpYTobvrbV3E"
   },
   "source": [
    "### Para comprobar cuáles son las demás versiones disponibles de Python, escriba los siguientes comandos:"
   ]
  },
  {
   "cell_type": "code",
   "execution_count": 3,
   "metadata": {
    "colab": {
     "base_uri": "https://localhost:8080/"
    },
    "id": "pMP8ser9bThH",
    "outputId": "ef65cc07-a893-4e12-a79b-862245186b47"
   },
   "outputs": [
    {
     "name": "stdout",
     "output_type": "stream",
     "text": [
      "/bin/bash: line 1: python2: command not found\n",
      "Python 3.10.12\n"
     ]
    }
   ],
   "source": [
    "!python2 --version\n",
    "!python3 --version"
   ]
  },
  {
   "cell_type": "markdown",
   "metadata": {
    "id": "s8JFHD9Abc0V"
   },
   "source": [
    "#Ejercicio 2: Escribir de su primer programa en Python\n",
    "\n",
    "A la hora de aprender a programar, se suele comenzar con el programa Hello, World. Este sencillo programa verifica que Python esté instalado correctamente."
   ]
  },
  {
   "cell_type": "code",
   "execution_count": null,
   "metadata": {
    "id": "S7Q35HHDbZiq"
   },
   "outputs": [],
   "source": [
    "print(\"Hello world\")"
   ]
  },
  {
   "cell_type": "markdown",
   "metadata": {
    "id": "zpiihMFCb1fg"
   },
   "source": [
    "## Saltos de Línea y Espacios en Blanco\n",
    "Saltos de Línea\n",
    "Para agregar un salto de línea dentro de un print(), puedes utilizar el carácter de escape \\n:"
   ]
  },
  {
   "cell_type": "code",
   "execution_count": 4,
   "metadata": {
    "colab": {
     "base_uri": "https://localhost:8080/"
    },
    "id": "qJgAvfnWb3Yl",
    "outputId": "cdb4eaee-8e06-4f38-e9b9-30f991347ace"
   },
   "outputs": [
    {
     "name": "stdout",
     "output_type": "stream",
     "text": [
      "Línea 1\n",
      "Línea 2\n",
      "Línea 3\n"
     ]
    }
   ],
   "source": [
    "print(\"Línea 1\\nLínea 2\\nLínea 3\")"
   ]
  },
  {
   "cell_type": "markdown",
   "metadata": {
    "id": "MXJqrfo4b6-q"
   },
   "source": [
    "### Espacios\n",
    "Si necesitas agregar un tabulador, puedes usar \\t:"
   ]
  },
  {
   "cell_type": "code",
   "execution_count": 5,
   "metadata": {
    "colab": {
     "base_uri": "https://localhost:8080/"
    },
    "id": "nEmqO24zb5kr",
    "outputId": "847e2d90-4d6b-422f-8231-20512232fa22"
   },
   "outputs": [
    {
     "name": "stdout",
     "output_type": "stream",
     "text": [
      "Columna 1\tColumna 2\tColumna 3\n"
     ]
    }
   ],
   "source": [
    "print(\"Columna 1\\tColumna 2\\tColumna 3\")"
   ]
  },
  {
   "cell_type": "markdown",
   "metadata": {
    "id": "1MkXjgIXcVyh"
   },
   "source": [
    "### Evitar el Salto de Línea Automático\n",
    "Por defecto, print() termina con un salto de línea. Si quieres que los siguientes datos impresos estén en la misma línea, usa el parámetro end:"
   ]
  },
  {
   "cell_type": "code",
   "execution_count": 6,
   "metadata": {
    "colab": {
     "base_uri": "https://localhost:8080/"
    },
    "id": "HYmfxw-1cYTn",
    "outputId": "f19c769e-3982-41e1-a486-c3c788092268"
   },
   "outputs": [
    {
     "name": "stdout",
     "output_type": "stream",
     "text": [
      "Hola, ¿cómo estás?\n"
     ]
    }
   ],
   "source": [
    "print(\"Hola,\", end=\" \")\n",
    "print(\"¿cómo estás?\")"
   ]
  },
  {
   "cell_type": "markdown",
   "metadata": {
    "id": "QXAlIivdcN7O"
   },
   "source": [
    "### Comentarios\n",
    "Los comentarios en Python se añaden con el símbolo #. Cualquier texto después del # no será ejecutado por Python:"
   ]
  },
  {
   "cell_type": "code",
   "execution_count": null,
   "metadata": {
    "id": "Hz0DpNg3b9UV"
   },
   "outputs": [],
   "source": [
    "# Esto es un comentario\n",
    "print(\"Esto no es un comentario y se imprimirá\")"
   ]
  },
  {
   "cell_type": "markdown",
   "metadata": {
    "id": "R26cIz2uVYpT"
   },
   "source": [
    "## Ejercicio: Imprimir un Menú de Restaurante\n",
    "\n",
    "**Objetivo**: Escribe un programa en Python que utilice la función `print()` para mostrar un menú de restaurante de forma clara y bien organizada.\n",
    "\n",
    "**Instrucciones**:\n",
    "1. El menú debe incluir al menos tres categorías de platos (por ejemplo, Entradas, Platos Principales, y Postres).\n",
    "2. Cada categoría debe tener al menos tres ítems.\n",
    "3. Cada ítem debe tener un precio.\n",
    "4. Usa saltos de línea y espaciado (espacios o tabulaciones) para organizar visualmente el menú en la salida.\n",
    "\n",
    "**Ejemplo de salida**:\n",
    "\n",
    "```\n",
    "Bienvenidos al Restaurante Pythonico\n",
    "\n",
    "Entradas:\n",
    "   - Sopa del día: $5\n",
    "   - Ensalada verde: $7\n",
    "   - Nachos: $8\n",
    "\n",
    "Platos Principales:\n",
    "   - Pizza vegetariana: $12\n",
    "   - Espagueti Carbonara: $15\n",
    "   - Pollo asado: $10\n",
    "\n",
    "Postres:\n",
    "   - Helado de vainilla: $4\n",
    "   - Pastel de chocolate: $6\n",
    "   - Fruta fresca: $5\n",
    "```\n",
    "\n"
   ]
  },
  {
   "cell_type": "code",
   "execution_count": null,
   "metadata": {
    "id": "XLqAXsGHVds8"
   },
   "outputs": [],
   "source": []
  }
 ],
 "metadata": {
  "colab": {
   "provenance": []
  },
  "kernelspec": {
   "display_name": "Python 3 (ipykernel)",
   "language": "python",
   "name": "python3"
  },
  "language_info": {
   "codemirror_mode": {
    "name": "ipython",
    "version": 3
   },
   "file_extension": ".py",
   "mimetype": "text/x-python",
   "name": "python",
   "nbconvert_exporter": "python",
   "pygments_lexer": "ipython3",
   "version": "3.7.16"
  }
 },
 "nbformat": 4,
 "nbformat_minor": 4
}
